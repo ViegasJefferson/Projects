{
 "cells": [
  {
   "cell_type": "code",
   "execution_count": 1,
   "id": "3f4b77a0-d567-467c-8b15-fac83bc7ffe2",
   "metadata": {},
   "outputs": [
    {
     "name": "stderr",
     "output_type": "stream",
     "text": [
      "P:\\Anaconda\\lib\\site-packages\\scipy\\__init__.py:146: UserWarning: A NumPy version >=1.16.5 and <1.23.0 is required for this version of SciPy (detected version 1.23.0\n",
      "  warnings.warn(f\"A NumPy version >={np_minversion} and <{np_maxversion}\"\n"
     ]
    }
   ],
   "source": [
    "import pandas as pd \n",
    "import numpy as np \n",
    "import seaborn as sns \n",
    "import matplotlib.pyplot as plt\n",
    "%matplotlib inline\n",
    "\n",
    "pd.set_option('display.max_rows', None)\n",
    "pd.set_option('display.max_columns', None)\n",
    "pd.set_option('display.width', None)\n",
    "pd.set_option('display.max_colwidth', None)"
   ]
  },
  {
   "cell_type": "code",
   "execution_count": 2,
   "id": "dca875db-80f1-499f-9876-99786fec22b4",
   "metadata": {},
   "outputs": [
    {
     "name": "stdout",
     "output_type": "stream",
     "text": [
      "Requirement already satisfied: odfpy in p:\\anaconda\\lib\\site-packages (1.4.1)\n",
      "Requirement already satisfied: defusedxml in p:\\anaconda\\lib\\site-packages (from odfpy) (0.7.1)\n"
     ]
    }
   ],
   "source": [
    "!pip install odfpy"
   ]
  },
  {
   "cell_type": "code",
   "execution_count": 3,
   "id": "56e304fd-ebd8-49f2-8077-4501ea183b1b",
   "metadata": {},
   "outputs": [
    {
     "name": "stdout",
     "output_type": "stream",
     "text": [
      "['Perguntas', 'Benefício']\n"
     ]
    }
   ],
   "source": [
    "dados = pd.ExcelFile('Beneficios.xlsx')\n",
    "print(dados.sheet_names)\n",
    "df1 = dados.parse('Benefício')"
   ]
  },
  {
   "cell_type": "code",
   "execution_count": 4,
   "id": "2fcdce89-31ab-4d17-9da1-b31bc92e4ec3",
   "metadata": {},
   "outputs": [
    {
     "data": {
      "text/html": [
       "<div>\n",
       "<style scoped>\n",
       "    .dataframe tbody tr th:only-of-type {\n",
       "        vertical-align: middle;\n",
       "    }\n",
       "\n",
       "    .dataframe tbody tr th {\n",
       "        vertical-align: top;\n",
       "    }\n",
       "\n",
       "    .dataframe thead th {\n",
       "        text-align: right;\n",
       "    }\n",
       "</style>\n",
       "<table border=\"1\" class=\"dataframe\">\n",
       "  <thead>\n",
       "    <tr style=\"text-align: right;\">\n",
       "      <th></th>\n",
       "      <th>Unnamed: 0</th>\n",
       "      <th>UF</th>\n",
       "      <th>Mês/Ano</th>\n",
       "      <th>Valor Transferido</th>\n",
       "      <th>Programa Social</th>\n",
       "    </tr>\n",
       "  </thead>\n",
       "  <tbody>\n",
       "    <tr>\n",
       "      <th>0</th>\n",
       "      <td>NaN</td>\n",
       "      <td>Inválido</td>\n",
       "      <td>2022-01-01</td>\n",
       "      <td>-6631.78</td>\n",
       "      <td>Seguro Defeso</td>\n",
       "    </tr>\n",
       "    <tr>\n",
       "      <th>1</th>\n",
       "      <td>NaN</td>\n",
       "      <td>AP</td>\n",
       "      <td>2022-01-01</td>\n",
       "      <td>3451.00</td>\n",
       "      <td>Auxílio Emergencial</td>\n",
       "    </tr>\n",
       "    <tr>\n",
       "      <th>2</th>\n",
       "      <td>NaN</td>\n",
       "      <td>Inválido</td>\n",
       "      <td>2022-01-01</td>\n",
       "      <td>3636.00</td>\n",
       "      <td>BPC</td>\n",
       "    </tr>\n",
       "    <tr>\n",
       "      <th>3</th>\n",
       "      <td>NaN</td>\n",
       "      <td>AC</td>\n",
       "      <td>2022-01-01</td>\n",
       "      <td>4602.00</td>\n",
       "      <td>Auxílio Emergencial</td>\n",
       "    </tr>\n",
       "    <tr>\n",
       "      <th>4</th>\n",
       "      <td>NaN</td>\n",
       "      <td>DF</td>\n",
       "      <td>2022-01-01</td>\n",
       "      <td>8898.00</td>\n",
       "      <td>Auxílio Emergencial</td>\n",
       "    </tr>\n",
       "  </tbody>\n",
       "</table>\n",
       "</div>"
      ],
      "text/plain": [
       "   Unnamed: 0        UF    Mês/Ano  Valor Transferido      Programa Social\n",
       "0         NaN  Inválido 2022-01-01           -6631.78        Seguro Defeso\n",
       "1         NaN        AP 2022-01-01            3451.00  Auxílio Emergencial\n",
       "2         NaN  Inválido 2022-01-01            3636.00                  BPC\n",
       "3         NaN        AC 2022-01-01            4602.00  Auxílio Emergencial\n",
       "4         NaN        DF 2022-01-01            8898.00  Auxílio Emergencial"
      ]
     },
     "execution_count": 4,
     "metadata": {},
     "output_type": "execute_result"
    }
   ],
   "source": [
    "df1.head()"
   ]
  },
  {
   "cell_type": "code",
   "execution_count": 5,
   "id": "914476c1-697a-4872-98ee-259abc5436c7",
   "metadata": {},
   "outputs": [
    {
     "data": {
      "text/html": [
       "<div>\n",
       "<style scoped>\n",
       "    .dataframe tbody tr th:only-of-type {\n",
       "        vertical-align: middle;\n",
       "    }\n",
       "\n",
       "    .dataframe tbody tr th {\n",
       "        vertical-align: top;\n",
       "    }\n",
       "\n",
       "    .dataframe thead th {\n",
       "        text-align: right;\n",
       "    }\n",
       "</style>\n",
       "<table border=\"1\" class=\"dataframe\">\n",
       "  <thead>\n",
       "    <tr style=\"text-align: right;\">\n",
       "      <th></th>\n",
       "      <th>UF</th>\n",
       "      <th>Mês/Ano</th>\n",
       "      <th>Valor Transferido</th>\n",
       "      <th>Programa Social</th>\n",
       "    </tr>\n",
       "  </thead>\n",
       "  <tbody>\n",
       "    <tr>\n",
       "      <th>0</th>\n",
       "      <td>Inválido</td>\n",
       "      <td>2022-01-01</td>\n",
       "      <td>-6631.78</td>\n",
       "      <td>Seguro Defeso</td>\n",
       "    </tr>\n",
       "    <tr>\n",
       "      <th>1</th>\n",
       "      <td>AP</td>\n",
       "      <td>2022-01-01</td>\n",
       "      <td>3451.00</td>\n",
       "      <td>Auxílio Emergencial</td>\n",
       "    </tr>\n",
       "    <tr>\n",
       "      <th>2</th>\n",
       "      <td>Inválido</td>\n",
       "      <td>2022-01-01</td>\n",
       "      <td>3636.00</td>\n",
       "      <td>BPC</td>\n",
       "    </tr>\n",
       "    <tr>\n",
       "      <th>3</th>\n",
       "      <td>AC</td>\n",
       "      <td>2022-01-01</td>\n",
       "      <td>4602.00</td>\n",
       "      <td>Auxílio Emergencial</td>\n",
       "    </tr>\n",
       "    <tr>\n",
       "      <th>4</th>\n",
       "      <td>DF</td>\n",
       "      <td>2022-01-01</td>\n",
       "      <td>8898.00</td>\n",
       "      <td>Auxílio Emergencial</td>\n",
       "    </tr>\n",
       "  </tbody>\n",
       "</table>\n",
       "</div>"
      ],
      "text/plain": [
       "         UF    Mês/Ano  Valor Transferido      Programa Social\n",
       "0  Inválido 2022-01-01           -6631.78        Seguro Defeso\n",
       "1        AP 2022-01-01            3451.00  Auxílio Emergencial\n",
       "2  Inválido 2022-01-01            3636.00                  BPC\n",
       "3        AC 2022-01-01            4602.00  Auxílio Emergencial\n",
       "4        DF 2022-01-01            8898.00  Auxílio Emergencial"
      ]
     },
     "execution_count": 5,
     "metadata": {},
     "output_type": "execute_result"
    }
   ],
   "source": [
    "df1 = df1.drop('Unnamed: 0', axis = 1)\n",
    "df1.head()"
   ]
  },
  {
   "cell_type": "code",
   "execution_count": 6,
   "id": "ece12b9f-0158-4c21-bb01-a10415f2a92f",
   "metadata": {},
   "outputs": [],
   "source": [
    "df1.drop([0,2,6], inplace = True)"
   ]
  },
  {
   "cell_type": "code",
   "execution_count": 7,
   "id": "3db3bbf2-616d-4fc7-8fc1-4bfdd17da724",
   "metadata": {},
   "outputs": [
    {
     "data": {
      "text/html": [
       "<div>\n",
       "<style scoped>\n",
       "    .dataframe tbody tr th:only-of-type {\n",
       "        vertical-align: middle;\n",
       "    }\n",
       "\n",
       "    .dataframe tbody tr th {\n",
       "        vertical-align: top;\n",
       "    }\n",
       "\n",
       "    .dataframe thead th {\n",
       "        text-align: right;\n",
       "    }\n",
       "</style>\n",
       "<table border=\"1\" class=\"dataframe\">\n",
       "  <thead>\n",
       "    <tr style=\"text-align: right;\">\n",
       "      <th></th>\n",
       "      <th>UF</th>\n",
       "      <th>Mês/Ano</th>\n",
       "      <th>Valor Transferido</th>\n",
       "      <th>Programa Social</th>\n",
       "    </tr>\n",
       "  </thead>\n",
       "  <tbody>\n",
       "    <tr>\n",
       "      <th>1</th>\n",
       "      <td>AP</td>\n",
       "      <td>2022-01-01</td>\n",
       "      <td>3451.0</td>\n",
       "      <td>Auxílio Emergencial</td>\n",
       "    </tr>\n",
       "    <tr>\n",
       "      <th>3</th>\n",
       "      <td>AC</td>\n",
       "      <td>2022-01-01</td>\n",
       "      <td>4602.0</td>\n",
       "      <td>Auxílio Emergencial</td>\n",
       "    </tr>\n",
       "    <tr>\n",
       "      <th>4</th>\n",
       "      <td>DF</td>\n",
       "      <td>2022-01-01</td>\n",
       "      <td>8898.0</td>\n",
       "      <td>Auxílio Emergencial</td>\n",
       "    </tr>\n",
       "    <tr>\n",
       "      <th>5</th>\n",
       "      <td>TO</td>\n",
       "      <td>2022-01-01</td>\n",
       "      <td>9600.0</td>\n",
       "      <td>Auxílio Emergencial</td>\n",
       "    </tr>\n",
       "    <tr>\n",
       "      <th>7</th>\n",
       "      <td>MT</td>\n",
       "      <td>2022-01-01</td>\n",
       "      <td>14105.0</td>\n",
       "      <td>Auxílio Emergencial</td>\n",
       "    </tr>\n",
       "  </tbody>\n",
       "</table>\n",
       "</div>"
      ],
      "text/plain": [
       "   UF    Mês/Ano  Valor Transferido      Programa Social\n",
       "1  AP 2022-01-01             3451.0  Auxílio Emergencial\n",
       "3  AC 2022-01-01             4602.0  Auxílio Emergencial\n",
       "4  DF 2022-01-01             8898.0  Auxílio Emergencial\n",
       "5  TO 2022-01-01             9600.0  Auxílio Emergencial\n",
       "7  MT 2022-01-01            14105.0  Auxílio Emergencial"
      ]
     },
     "execution_count": 7,
     "metadata": {},
     "output_type": "execute_result"
    }
   ],
   "source": [
    "df1.head()"
   ]
  },
  {
   "cell_type": "code",
   "execution_count": 8,
   "id": "208b5105-2037-4c6e-8c3b-a027ece4085c",
   "metadata": {},
   "outputs": [
    {
     "data": {
      "text/html": [
       "<div>\n",
       "<style scoped>\n",
       "    .dataframe tbody tr th:only-of-type {\n",
       "        vertical-align: middle;\n",
       "    }\n",
       "\n",
       "    .dataframe tbody tr th {\n",
       "        vertical-align: top;\n",
       "    }\n",
       "\n",
       "    .dataframe thead th {\n",
       "        text-align: right;\n",
       "    }\n",
       "</style>\n",
       "<table border=\"1\" class=\"dataframe\">\n",
       "  <thead>\n",
       "    <tr style=\"text-align: right;\">\n",
       "      <th></th>\n",
       "      <th>UF</th>\n",
       "      <th>Mês/Ano</th>\n",
       "      <th>Valor Transferido</th>\n",
       "      <th>Programa Social</th>\n",
       "    </tr>\n",
       "  </thead>\n",
       "  <tbody>\n",
       "    <tr>\n",
       "      <th>0</th>\n",
       "      <td>AP</td>\n",
       "      <td>2022-01-01</td>\n",
       "      <td>3451.0</td>\n",
       "      <td>Auxílio Emergencial</td>\n",
       "    </tr>\n",
       "    <tr>\n",
       "      <th>1</th>\n",
       "      <td>AC</td>\n",
       "      <td>2022-01-01</td>\n",
       "      <td>4602.0</td>\n",
       "      <td>Auxílio Emergencial</td>\n",
       "    </tr>\n",
       "    <tr>\n",
       "      <th>2</th>\n",
       "      <td>DF</td>\n",
       "      <td>2022-01-01</td>\n",
       "      <td>8898.0</td>\n",
       "      <td>Auxílio Emergencial</td>\n",
       "    </tr>\n",
       "    <tr>\n",
       "      <th>3</th>\n",
       "      <td>TO</td>\n",
       "      <td>2022-01-01</td>\n",
       "      <td>9600.0</td>\n",
       "      <td>Auxílio Emergencial</td>\n",
       "    </tr>\n",
       "    <tr>\n",
       "      <th>4</th>\n",
       "      <td>MT</td>\n",
       "      <td>2022-01-01</td>\n",
       "      <td>14105.0</td>\n",
       "      <td>Auxílio Emergencial</td>\n",
       "    </tr>\n",
       "  </tbody>\n",
       "</table>\n",
       "</div>"
      ],
      "text/plain": [
       "   UF    Mês/Ano  Valor Transferido      Programa Social\n",
       "0  AP 2022-01-01             3451.0  Auxílio Emergencial\n",
       "1  AC 2022-01-01             4602.0  Auxílio Emergencial\n",
       "2  DF 2022-01-01             8898.0  Auxílio Emergencial\n",
       "3  TO 2022-01-01             9600.0  Auxílio Emergencial\n",
       "4  MT 2022-01-01            14105.0  Auxílio Emergencial"
      ]
     },
     "execution_count": 8,
     "metadata": {},
     "output_type": "execute_result"
    }
   ],
   "source": [
    "df1.reset_index(inplace=True, drop=True)\n",
    "df1.head()"
   ]
  },
  {
   "cell_type": "code",
   "execution_count": 9,
   "id": "8bd4decd-a584-4447-8489-6ccdbe8f59a0",
   "metadata": {},
   "outputs": [
    {
     "data": {
      "text/html": [
       "<div>\n",
       "<style scoped>\n",
       "    .dataframe tbody tr th:only-of-type {\n",
       "        vertical-align: middle;\n",
       "    }\n",
       "\n",
       "    .dataframe tbody tr th {\n",
       "        vertical-align: top;\n",
       "    }\n",
       "\n",
       "    .dataframe thead th {\n",
       "        text-align: right;\n",
       "    }\n",
       "</style>\n",
       "<table border=\"1\" class=\"dataframe\">\n",
       "  <thead>\n",
       "    <tr style=\"text-align: right;\">\n",
       "      <th></th>\n",
       "      <th>Valor Transferido</th>\n",
       "    </tr>\n",
       "  </thead>\n",
       "  <tbody>\n",
       "    <tr>\n",
       "      <th>count</th>\n",
       "      <td>2.360000e+02</td>\n",
       "    </tr>\n",
       "    <tr>\n",
       "      <th>mean</th>\n",
       "      <td>1.021623e+08</td>\n",
       "    </tr>\n",
       "    <tr>\n",
       "      <th>std</th>\n",
       "      <td>1.743829e+08</td>\n",
       "    </tr>\n",
       "    <tr>\n",
       "      <th>min</th>\n",
       "      <td>3.451000e+03</td>\n",
       "    </tr>\n",
       "    <tr>\n",
       "      <th>25%</th>\n",
       "      <td>6.170320e+05</td>\n",
       "    </tr>\n",
       "    <tr>\n",
       "      <th>50%</th>\n",
       "      <td>2.071396e+07</td>\n",
       "    </tr>\n",
       "    <tr>\n",
       "      <th>75%</th>\n",
       "      <td>1.063540e+08</td>\n",
       "    </tr>\n",
       "    <tr>\n",
       "      <th>max</th>\n",
       "      <td>9.438300e+08</td>\n",
       "    </tr>\n",
       "  </tbody>\n",
       "</table>\n",
       "</div>"
      ],
      "text/plain": [
       "       Valor Transferido\n",
       "count       2.360000e+02\n",
       "mean        1.021623e+08\n",
       "std         1.743829e+08\n",
       "min         3.451000e+03\n",
       "25%         6.170320e+05\n",
       "50%         2.071396e+07\n",
       "75%         1.063540e+08\n",
       "max         9.438300e+08"
      ]
     },
     "execution_count": 9,
     "metadata": {},
     "output_type": "execute_result"
    }
   ],
   "source": [
    "df1.describe()"
   ]
  },
  {
   "cell_type": "code",
   "execution_count": 10,
   "id": "68c3faf8-55d2-432a-8a32-241b77b1fdd1",
   "metadata": {},
   "outputs": [
    {
     "name": "stdout",
     "output_type": "stream",
     "text": [
      "<class 'pandas.core.frame.DataFrame'>\n",
      "RangeIndex: 236 entries, 0 to 235\n",
      "Data columns (total 4 columns):\n",
      " #   Column             Non-Null Count  Dtype         \n",
      "---  ------             --------------  -----         \n",
      " 0   UF                 236 non-null    object        \n",
      " 1   Mês/Ano            236 non-null    datetime64[ns]\n",
      " 2   Valor Transferido  236 non-null    float64       \n",
      " 3   Programa Social    236 non-null    object        \n",
      "dtypes: datetime64[ns](1), float64(1), object(2)\n",
      "memory usage: 7.5+ KB\n"
     ]
    }
   ],
   "source": [
    "df1.info()"
   ]
  },
  {
   "cell_type": "code",
   "execution_count": 11,
   "id": "a934adfa-f960-4a70-9f98-4229f07f5d02",
   "metadata": {},
   "outputs": [
    {
     "data": {
      "text/plain": [
       "UF                   0\n",
       "Mês/Ano              0\n",
       "Valor Transferido    0\n",
       "Programa Social      0\n",
       "dtype: int64"
      ]
     },
     "execution_count": 11,
     "metadata": {},
     "output_type": "execute_result"
    }
   ],
   "source": [
    "df1.isnull().sum()"
   ]
  },
  {
   "cell_type": "code",
   "execution_count": 12,
   "id": "a64b1050-c1ce-48a2-80de-e8ac2838cd00",
   "metadata": {},
   "outputs": [
    {
     "data": {
      "text/plain": [
       "(236, 4)"
      ]
     },
     "execution_count": 12,
     "metadata": {},
     "output_type": "execute_result"
    }
   ],
   "source": [
    "df1.shape"
   ]
  },
  {
   "cell_type": "markdown",
   "id": "c98a0c22-4489-4a0b-a2a3-d2e9a898b868",
   "metadata": {},
   "source": [
    "#### Os 10 MAIORES VALORES Pagos informando a UF e o Benefício Correspondente"
   ]
  },
  {
   "cell_type": "code",
   "execution_count": 13,
   "id": "0f69eb4a-2d3e-4ba1-8819-a7a65d32eaed",
   "metadata": {},
   "outputs": [
    {
     "data": {
      "text/html": [
       "<div>\n",
       "<style scoped>\n",
       "    .dataframe tbody tr th:only-of-type {\n",
       "        vertical-align: middle;\n",
       "    }\n",
       "\n",
       "    .dataframe tbody tr th {\n",
       "        vertical-align: top;\n",
       "    }\n",
       "\n",
       "    .dataframe thead th {\n",
       "        text-align: right;\n",
       "    }\n",
       "</style>\n",
       "<table border=\"1\" class=\"dataframe\">\n",
       "  <thead>\n",
       "    <tr style=\"text-align: right;\">\n",
       "      <th></th>\n",
       "      <th>UF</th>\n",
       "      <th>Mês/Ano</th>\n",
       "      <th>Valor Transferido</th>\n",
       "      <th>Programa Social</th>\n",
       "    </tr>\n",
       "  </thead>\n",
       "  <tbody>\n",
       "    <tr>\n",
       "      <th>235</th>\n",
       "      <td>SP</td>\n",
       "      <td>2022-04-01</td>\n",
       "      <td>9.438300e+08</td>\n",
       "      <td>BPC</td>\n",
       "    </tr>\n",
       "    <tr>\n",
       "      <th>234</th>\n",
       "      <td>SP</td>\n",
       "      <td>2022-03-01</td>\n",
       "      <td>9.410309e+08</td>\n",
       "      <td>BPC</td>\n",
       "    </tr>\n",
       "    <tr>\n",
       "      <th>233</th>\n",
       "      <td>SP</td>\n",
       "      <td>2022-01-01</td>\n",
       "      <td>9.358120e+08</td>\n",
       "      <td>BPC</td>\n",
       "    </tr>\n",
       "    <tr>\n",
       "      <th>232</th>\n",
       "      <td>SP</td>\n",
       "      <td>2022-02-01</td>\n",
       "      <td>9.356884e+08</td>\n",
       "      <td>BPC</td>\n",
       "    </tr>\n",
       "    <tr>\n",
       "      <th>231</th>\n",
       "      <td>MG</td>\n",
       "      <td>2022-04-01</td>\n",
       "      <td>5.663633e+08</td>\n",
       "      <td>BPC</td>\n",
       "    </tr>\n",
       "    <tr>\n",
       "      <th>230</th>\n",
       "      <td>MG</td>\n",
       "      <td>2022-03-01</td>\n",
       "      <td>5.655510e+08</td>\n",
       "      <td>BPC</td>\n",
       "    </tr>\n",
       "    <tr>\n",
       "      <th>229</th>\n",
       "      <td>MG</td>\n",
       "      <td>2022-01-01</td>\n",
       "      <td>5.642057e+08</td>\n",
       "      <td>BPC</td>\n",
       "    </tr>\n",
       "    <tr>\n",
       "      <th>228</th>\n",
       "      <td>MG</td>\n",
       "      <td>2022-02-01</td>\n",
       "      <td>5.634518e+08</td>\n",
       "      <td>BPC</td>\n",
       "    </tr>\n",
       "    <tr>\n",
       "      <th>227</th>\n",
       "      <td>BA</td>\n",
       "      <td>2022-03-01</td>\n",
       "      <td>5.580646e+08</td>\n",
       "      <td>BPC</td>\n",
       "    </tr>\n",
       "    <tr>\n",
       "      <th>226</th>\n",
       "      <td>BA</td>\n",
       "      <td>2022-04-01</td>\n",
       "      <td>5.572141e+08</td>\n",
       "      <td>BPC</td>\n",
       "    </tr>\n",
       "  </tbody>\n",
       "</table>\n",
       "</div>"
      ],
      "text/plain": [
       "     UF    Mês/Ano  Valor Transferido Programa Social\n",
       "235  SP 2022-04-01       9.438300e+08             BPC\n",
       "234  SP 2022-03-01       9.410309e+08             BPC\n",
       "233  SP 2022-01-01       9.358120e+08             BPC\n",
       "232  SP 2022-02-01       9.356884e+08             BPC\n",
       "231  MG 2022-04-01       5.663633e+08             BPC\n",
       "230  MG 2022-03-01       5.655510e+08             BPC\n",
       "229  MG 2022-01-01       5.642057e+08             BPC\n",
       "228  MG 2022-02-01       5.634518e+08             BPC\n",
       "227  BA 2022-03-01       5.580646e+08             BPC\n",
       "226  BA 2022-04-01       5.572141e+08             BPC"
      ]
     },
     "execution_count": 13,
     "metadata": {},
     "output_type": "execute_result"
    }
   ],
   "source": [
    "df1.nlargest(10, 'Valor Transferido')"
   ]
  },
  {
   "cell_type": "markdown",
   "id": "1580acd6-3a54-49d6-a387-658f97946828",
   "metadata": {},
   "source": [
    "#### Os 3 MAIORES VALORES Pagos informando a UF e o Benefício Correspondente"
   ]
  },
  {
   "cell_type": "code",
   "execution_count": 14,
   "id": "3ca27524-e848-4976-ab55-6ac839266067",
   "metadata": {},
   "outputs": [
    {
     "data": {
      "text/html": [
       "<div>\n",
       "<style scoped>\n",
       "    .dataframe tbody tr th:only-of-type {\n",
       "        vertical-align: middle;\n",
       "    }\n",
       "\n",
       "    .dataframe tbody tr th {\n",
       "        vertical-align: top;\n",
       "    }\n",
       "\n",
       "    .dataframe thead th {\n",
       "        text-align: right;\n",
       "    }\n",
       "</style>\n",
       "<table border=\"1\" class=\"dataframe\">\n",
       "  <thead>\n",
       "    <tr style=\"text-align: right;\">\n",
       "      <th></th>\n",
       "      <th>UF</th>\n",
       "      <th>Mês/Ano</th>\n",
       "      <th>Valor Transferido</th>\n",
       "      <th>Programa Social</th>\n",
       "    </tr>\n",
       "  </thead>\n",
       "  <tbody>\n",
       "    <tr>\n",
       "      <th>235</th>\n",
       "      <td>SP</td>\n",
       "      <td>2022-04-01</td>\n",
       "      <td>9.438300e+08</td>\n",
       "      <td>BPC</td>\n",
       "    </tr>\n",
       "    <tr>\n",
       "      <th>234</th>\n",
       "      <td>SP</td>\n",
       "      <td>2022-03-01</td>\n",
       "      <td>9.410309e+08</td>\n",
       "      <td>BPC</td>\n",
       "    </tr>\n",
       "    <tr>\n",
       "      <th>233</th>\n",
       "      <td>SP</td>\n",
       "      <td>2022-01-01</td>\n",
       "      <td>9.358120e+08</td>\n",
       "      <td>BPC</td>\n",
       "    </tr>\n",
       "  </tbody>\n",
       "</table>\n",
       "</div>"
      ],
      "text/plain": [
       "     UF    Mês/Ano  Valor Transferido Programa Social\n",
       "235  SP 2022-04-01       9.438300e+08             BPC\n",
       "234  SP 2022-03-01       9.410309e+08             BPC\n",
       "233  SP 2022-01-01       9.358120e+08             BPC"
      ]
     },
     "execution_count": 14,
     "metadata": {},
     "output_type": "execute_result"
    }
   ],
   "source": [
    "maiores_valores = df1.nlargest(3, 'Valor Transferido')\n",
    "maiores_valores\n"
   ]
  },
  {
   "cell_type": "code",
   "execution_count": 60,
   "id": "d6a5a32d-a001-4579-b222-b43a9cfad3ae",
   "metadata": {},
   "outputs": [
    {
     "data": {
      "text/plain": [
       "Text(0.5, 1.0, 'Total em R$ de benefícios')"
      ]
     },
     "execution_count": 60,
     "metadata": {},
     "output_type": "execute_result"
    },
    {
     "data": {
      "image/png": "[encoded data removed]",
      "text/plain": [
       "<Figure size 576x432 with 1 Axes>"
      ]
     },
     "metadata": {
      "needs_background": "light"
     },
     "output_type": "display_data"
    }
   ],
   "source": [
    "grafico = sns.catplot(x='index', y= 'Valor Transferido', hue='Programa Social', data = maiores_valores.reset_index(), kind='bar')\n",
    "grafico.ax.set_xlabel('SP'); grafico.fig.set_size_inches(8,6)\n",
    "grafico.ax.set_ylabel('Maiores valores Pagos')\n",
    "grafico.ax.set_title('Total em R$ de benefícios')"
   ]
  },
  {
   "cell_type": "markdown",
   "id": "1a82beb8-cedc-418c-b016-c275a045f5dd",
   "metadata": {},
   "source": [
    "#### Os 10 MENORES VALORES Pagos informando a UF e o Beneficio Correspondente"
   ]
  },
  {
   "cell_type": "code",
   "execution_count": 16,
   "id": "38d9dbed-6430-46f8-8f27-688ec466f39e",
   "metadata": {},
   "outputs": [
    {
     "data": {
      "text/html": [
       "<div>\n",
       "<style scoped>\n",
       "    .dataframe tbody tr th:only-of-type {\n",
       "        vertical-align: middle;\n",
       "    }\n",
       "\n",
       "    .dataframe tbody tr th {\n",
       "        vertical-align: top;\n",
       "    }\n",
       "\n",
       "    .dataframe thead th {\n",
       "        text-align: right;\n",
       "    }\n",
       "</style>\n",
       "<table border=\"1\" class=\"dataframe\">\n",
       "  <thead>\n",
       "    <tr style=\"text-align: right;\">\n",
       "      <th></th>\n",
       "      <th>UF</th>\n",
       "      <th>Mês/Ano</th>\n",
       "      <th>Valor Transferido</th>\n",
       "      <th>Programa Social</th>\n",
       "    </tr>\n",
       "  </thead>\n",
       "  <tbody>\n",
       "    <tr>\n",
       "      <th>0</th>\n",
       "      <td>AP</td>\n",
       "      <td>2022-01-01</td>\n",
       "      <td>3451.0</td>\n",
       "      <td>Auxílio Emergencial</td>\n",
       "    </tr>\n",
       "    <tr>\n",
       "      <th>1</th>\n",
       "      <td>AC</td>\n",
       "      <td>2022-01-01</td>\n",
       "      <td>4602.0</td>\n",
       "      <td>Auxílio Emergencial</td>\n",
       "    </tr>\n",
       "    <tr>\n",
       "      <th>2</th>\n",
       "      <td>DF</td>\n",
       "      <td>2022-01-01</td>\n",
       "      <td>8898.0</td>\n",
       "      <td>Auxílio Emergencial</td>\n",
       "    </tr>\n",
       "    <tr>\n",
       "      <th>3</th>\n",
       "      <td>TO</td>\n",
       "      <td>2022-01-01</td>\n",
       "      <td>9600.0</td>\n",
       "      <td>Auxílio Emergencial</td>\n",
       "    </tr>\n",
       "    <tr>\n",
       "      <th>4</th>\n",
       "      <td>MT</td>\n",
       "      <td>2022-01-01</td>\n",
       "      <td>14105.0</td>\n",
       "      <td>Auxílio Emergencial</td>\n",
       "    </tr>\n",
       "    <tr>\n",
       "      <th>5</th>\n",
       "      <td>DF</td>\n",
       "      <td>2022-02-01</td>\n",
       "      <td>14544.0</td>\n",
       "      <td>Seguro Defeso</td>\n",
       "    </tr>\n",
       "    <tr>\n",
       "      <th>6</th>\n",
       "      <td>MS</td>\n",
       "      <td>2022-01-01</td>\n",
       "      <td>17400.0</td>\n",
       "      <td>Auxílio Emergencial</td>\n",
       "    </tr>\n",
       "    <tr>\n",
       "      <th>7</th>\n",
       "      <td>DF</td>\n",
       "      <td>2022-01-01</td>\n",
       "      <td>20248.0</td>\n",
       "      <td>Seguro Defeso</td>\n",
       "    </tr>\n",
       "    <tr>\n",
       "      <th>8</th>\n",
       "      <td>AM</td>\n",
       "      <td>2022-01-01</td>\n",
       "      <td>28381.0</td>\n",
       "      <td>Auxílio Emergencial</td>\n",
       "    </tr>\n",
       "    <tr>\n",
       "      <th>9</th>\n",
       "      <td>RN</td>\n",
       "      <td>2022-01-01</td>\n",
       "      <td>28900.0</td>\n",
       "      <td>Garantia-Safra</td>\n",
       "    </tr>\n",
       "  </tbody>\n",
       "</table>\n",
       "</div>"
      ],
      "text/plain": [
       "   UF    Mês/Ano  Valor Transferido      Programa Social\n",
       "0  AP 2022-01-01             3451.0  Auxílio Emergencial\n",
       "1  AC 2022-01-01             4602.0  Auxílio Emergencial\n",
       "2  DF 2022-01-01             8898.0  Auxílio Emergencial\n",
       "3  TO 2022-01-01             9600.0  Auxílio Emergencial\n",
       "4  MT 2022-01-01            14105.0  Auxílio Emergencial\n",
       "5  DF 2022-02-01            14544.0        Seguro Defeso\n",
       "6  MS 2022-01-01            17400.0  Auxílio Emergencial\n",
       "7  DF 2022-01-01            20248.0        Seguro Defeso\n",
       "8  AM 2022-01-01            28381.0  Auxílio Emergencial\n",
       "9  RN 2022-01-01            28900.0       Garantia-Safra"
      ]
     },
     "execution_count": 16,
     "metadata": {},
     "output_type": "execute_result"
    }
   ],
   "source": [
    "df1.nsmallest(10, 'Valor Transferido')"
   ]
  },
  {
   "cell_type": "markdown",
   "id": "9b7e0c05-6032-490b-8b7b-84658913c6c0",
   "metadata": {},
   "source": [
    "##### Os 3 MENORES VALORES Pagos informando a UF e o Beneficio Correspondente"
   ]
  },
  {
   "cell_type": "code",
   "execution_count": 17,
   "id": "7f408e10-da92-4489-94a4-c86006a8f975",
   "metadata": {},
   "outputs": [
    {
     "data": {
      "text/html": [
       "<div>\n",
       "<style scoped>\n",
       "    .dataframe tbody tr th:only-of-type {\n",
       "        vertical-align: middle;\n",
       "    }\n",
       "\n",
       "    .dataframe tbody tr th {\n",
       "        vertical-align: top;\n",
       "    }\n",
       "\n",
       "    .dataframe thead th {\n",
       "        text-align: right;\n",
       "    }\n",
       "</style>\n",
       "<table border=\"1\" class=\"dataframe\">\n",
       "  <thead>\n",
       "    <tr style=\"text-align: right;\">\n",
       "      <th></th>\n",
       "      <th>UF</th>\n",
       "      <th>Mês/Ano</th>\n",
       "      <th>Valor Transferido</th>\n",
       "      <th>Programa Social</th>\n",
       "    </tr>\n",
       "  </thead>\n",
       "  <tbody>\n",
       "    <tr>\n",
       "      <th>0</th>\n",
       "      <td>AP</td>\n",
       "      <td>2022-01-01</td>\n",
       "      <td>3451.0</td>\n",
       "      <td>Auxílio Emergencial</td>\n",
       "    </tr>\n",
       "    <tr>\n",
       "      <th>1</th>\n",
       "      <td>AC</td>\n",
       "      <td>2022-01-01</td>\n",
       "      <td>4602.0</td>\n",
       "      <td>Auxílio Emergencial</td>\n",
       "    </tr>\n",
       "    <tr>\n",
       "      <th>2</th>\n",
       "      <td>DF</td>\n",
       "      <td>2022-01-01</td>\n",
       "      <td>8898.0</td>\n",
       "      <td>Auxílio Emergencial</td>\n",
       "    </tr>\n",
       "  </tbody>\n",
       "</table>\n",
       "</div>"
      ],
      "text/plain": [
       "   UF    Mês/Ano  Valor Transferido      Programa Social\n",
       "0  AP 2022-01-01             3451.0  Auxílio Emergencial\n",
       "1  AC 2022-01-01             4602.0  Auxílio Emergencial\n",
       "2  DF 2022-01-01             8898.0  Auxílio Emergencial"
      ]
     },
     "execution_count": 17,
     "metadata": {},
     "output_type": "execute_result"
    }
   ],
   "source": [
    "menores_valores = df1.nsmallest(3, 'Valor Transferido')\n",
    "menores_valores"
   ]
  },
  {
   "cell_type": "code",
   "execution_count": 56,
   "id": "0fb5a50f-f8e3-4103-bf69-4f4965cab421",
   "metadata": {},
   "outputs": [
    {
     "data": {
      "text/plain": [
       "Text(0.5, 1.0, 'Total em R$ de benefícios')"
      ]
     },
     "execution_count": 56,
     "metadata": {},
     "output_type": "execute_result"
    },
    {
     "data": {
      "image/png": "[encoded data removed]",
      "text/plain": [
       "<Figure size 576x432 with 1 Axes>"
      ]
     },
     "metadata": {
      "needs_background": "light"
     },
     "output_type": "display_data"
    }
   ],
   "source": [
    "grafico = sns.catplot(x='UF', y= 'Valor Transferido', hue='Programa Social', data = menores_valores.reset_index(), kind='bar')\n",
    "grafico.ax.set_xlabel('UF'); grafico.fig.set_size_inches(8,6)\n",
    "grafico.ax.set_ylabel('Maiores valores Pagos')\n",
    "grafico.ax.set_title('Total em R$ de benefícios')"
   ]
  },
  {
   "cell_type": "code",
   "execution_count": 19,
   "id": "6eefe349-c7ec-49c1-97e8-6f244e6dc7dd",
   "metadata": {},
   "outputs": [],
   "source": [
    "total_porUF = df1.groupby('UF')['Valor Transferido'].sum()"
   ]
  },
  {
   "cell_type": "code",
   "execution_count": 20,
   "id": "f8e68318-80f2-444f-bfb2-67fd26e12c27",
   "metadata": {},
   "outputs": [],
   "source": [
    "total_porUF = pd.DataFrame(total_porUF)"
   ]
  },
  {
   "cell_type": "code",
   "execution_count": 21,
   "id": "9d6b37ac-9c2a-47e6-9500-03bd0fe8e891",
   "metadata": {},
   "outputs": [],
   "source": [
    "total_porUF['Valor Transferido'] = total_porUF['Valor Transferido'].apply(lambda x: int(x))"
   ]
  },
  {
   "cell_type": "markdown",
   "id": "f0226e48-9b12-4b51-94a5-e30783dcf3e5",
   "metadata": {},
   "source": [
    "#### Total em R$ de benefícios por UF "
   ]
  },
  {
   "cell_type": "code",
   "execution_count": 22,
   "id": "092d48a1-997d-4df0-b962-8c21afd9b6a0",
   "metadata": {},
   "outputs": [
    {
     "data": {
      "text/html": [
       "<div>\n",
       "<style scoped>\n",
       "    .dataframe tbody tr th:only-of-type {\n",
       "        vertical-align: middle;\n",
       "    }\n",
       "\n",
       "    .dataframe tbody tr th {\n",
       "        vertical-align: top;\n",
       "    }\n",
       "\n",
       "    .dataframe thead th {\n",
       "        text-align: right;\n",
       "    }\n",
       "</style>\n",
       "<table border=\"1\" class=\"dataframe\">\n",
       "  <thead>\n",
       "    <tr style=\"text-align: right;\">\n",
       "      <th></th>\n",
       "      <th>UF</th>\n",
       "      <th>Valor Transferido</th>\n",
       "    </tr>\n",
       "  </thead>\n",
       "  <tbody>\n",
       "    <tr>\n",
       "      <th>0</th>\n",
       "      <td>AC</td>\n",
       "      <td>139752567</td>\n",
       "    </tr>\n",
       "    <tr>\n",
       "      <th>1</th>\n",
       "      <td>AL</td>\n",
       "      <td>577166608</td>\n",
       "    </tr>\n",
       "    <tr>\n",
       "      <th>2</th>\n",
       "      <td>AM</td>\n",
       "      <td>631450811</td>\n",
       "    </tr>\n",
       "    <tr>\n",
       "      <th>3</th>\n",
       "      <td>AP</td>\n",
       "      <td>146320115</td>\n",
       "    </tr>\n",
       "    <tr>\n",
       "      <th>4</th>\n",
       "      <td>BA</td>\n",
       "      <td>2348708118</td>\n",
       "    </tr>\n",
       "    <tr>\n",
       "      <th>5</th>\n",
       "      <td>CE</td>\n",
       "      <td>1439927589</td>\n",
       "    </tr>\n",
       "    <tr>\n",
       "      <th>6</th>\n",
       "      <td>DF</td>\n",
       "      <td>262950514</td>\n",
       "    </tr>\n",
       "    <tr>\n",
       "      <th>7</th>\n",
       "      <td>ES</td>\n",
       "      <td>375496614</td>\n",
       "    </tr>\n",
       "    <tr>\n",
       "      <th>8</th>\n",
       "      <td>GO</td>\n",
       "      <td>766121988</td>\n",
       "    </tr>\n",
       "    <tr>\n",
       "      <th>9</th>\n",
       "      <td>MA</td>\n",
       "      <td>1017443530</td>\n",
       "    </tr>\n",
       "    <tr>\n",
       "      <th>10</th>\n",
       "      <td>MG</td>\n",
       "      <td>2291600999</td>\n",
       "    </tr>\n",
       "    <tr>\n",
       "      <th>11</th>\n",
       "      <td>MS</td>\n",
       "      <td>421324460</td>\n",
       "    </tr>\n",
       "    <tr>\n",
       "      <th>12</th>\n",
       "      <td>MT</td>\n",
       "      <td>419444729</td>\n",
       "    </tr>\n",
       "    <tr>\n",
       "      <th>13</th>\n",
       "      <td>PA</td>\n",
       "      <td>1298638422</td>\n",
       "    </tr>\n",
       "    <tr>\n",
       "      <th>14</th>\n",
       "      <td>PB</td>\n",
       "      <td>640939892</td>\n",
       "    </tr>\n",
       "    <tr>\n",
       "      <th>15</th>\n",
       "      <td>PE</td>\n",
       "      <td>1562653437</td>\n",
       "    </tr>\n",
       "    <tr>\n",
       "      <th>16</th>\n",
       "      <td>PI</td>\n",
       "      <td>476867843</td>\n",
       "    </tr>\n",
       "    <tr>\n",
       "      <th>17</th>\n",
       "      <td>PR</td>\n",
       "      <td>1057119969</td>\n",
       "    </tr>\n",
       "    <tr>\n",
       "      <th>18</th>\n",
       "      <td>RJ</td>\n",
       "      <td>1743697129</td>\n",
       "    </tr>\n",
       "    <tr>\n",
       "      <th>19</th>\n",
       "      <td>RN</td>\n",
       "      <td>455024658</td>\n",
       "    </tr>\n",
       "    <tr>\n",
       "      <th>20</th>\n",
       "      <td>RO</td>\n",
       "      <td>218662793</td>\n",
       "    </tr>\n",
       "    <tr>\n",
       "      <th>21</th>\n",
       "      <td>RR</td>\n",
       "      <td>66489250</td>\n",
       "    </tr>\n",
       "    <tr>\n",
       "      <th>22</th>\n",
       "      <td>RS</td>\n",
       "      <td>1005670513</td>\n",
       "    </tr>\n",
       "    <tr>\n",
       "      <th>23</th>\n",
       "      <td>SC</td>\n",
       "      <td>394859176</td>\n",
       "    </tr>\n",
       "    <tr>\n",
       "      <th>24</th>\n",
       "      <td>SE</td>\n",
       "      <td>369636876</td>\n",
       "    </tr>\n",
       "    <tr>\n",
       "      <th>25</th>\n",
       "      <td>SP</td>\n",
       "      <td>3780171917</td>\n",
       "    </tr>\n",
       "    <tr>\n",
       "      <th>26</th>\n",
       "      <td>TO</td>\n",
       "      <td>202169693</td>\n",
       "    </tr>\n",
       "  </tbody>\n",
       "</table>\n",
       "</div>"
      ],
      "text/plain": [
       "    UF  Valor Transferido\n",
       "0   AC          139752567\n",
       "1   AL          577166608\n",
       "2   AM          631450811\n",
       "3   AP          146320115\n",
       "4   BA         2348708118\n",
       "5   CE         1439927589\n",
       "6   DF          262950514\n",
       "7   ES          375496614\n",
       "8   GO          766121988\n",
       "9   MA         1017443530\n",
       "10  MG         2291600999\n",
       "11  MS          421324460\n",
       "12  MT          419444729\n",
       "13  PA         1298638422\n",
       "14  PB          640939892\n",
       "15  PE         1562653437\n",
       "16  PI          476867843\n",
       "17  PR         1057119969\n",
       "18  RJ         1743697129\n",
       "19  RN          455024658\n",
       "20  RO          218662793\n",
       "21  RR           66489250\n",
       "22  RS         1005670513\n",
       "23  SC          394859176\n",
       "24  SE          369636876\n",
       "25  SP         3780171917\n",
       "26  TO          202169693"
      ]
     },
     "execution_count": 22,
     "metadata": {},
     "output_type": "execute_result"
    }
   ],
   "source": [
    "total_porUF.reset_index(drop = False)"
   ]
  },
  {
   "cell_type": "code",
   "execution_count": 23,
   "id": "99c7d1db-1710-409f-ba62-f6e3524d3ec1",
   "metadata": {},
   "outputs": [],
   "source": [
    "total_porUF = total_porUF.sort_values(by = 'Valor Transferido')"
   ]
  },
  {
   "cell_type": "code",
   "execution_count": 64,
   "id": "eba908aa-1122-4638-8419-1dd5fad6fa05",
   "metadata": {},
   "outputs": [
    {
     "data": {
      "text/plain": [
       "<AxesSubplot:title={'center':'Total em R$ de benefícios por UF'}, xlabel='UF', ylabel='Valor transferido por UF'>"
      ]
     },
     "execution_count": 64,
     "metadata": {},
     "output_type": "execute_result"
    },
    {
     "data": {
      "image/png": "[encoded data removed]",
      "text/plain": [
       "<Figure size 864x432 with 1 Axes>"
      ]
     },
     "metadata": {},
     "output_type": "display_data"
    }
   ],
   "source": [
    "sns.set_theme(style='whitegrid', color_codes = True)\n",
    "\n",
    "plt.title('Total em R$ de benefícios por UF', fontsize =25)\n",
    "plt.ylabel('Valor transferido por UF', fontsize =15)\n",
    "total_porUF['Valor Transferido'].nsmallest(27).plot(kind = 'bar',figsize = (12, 6), color = sns.color_palette('Set2'))"
   ]
  },
  {
   "cell_type": "code",
   "execution_count": 62,
   "id": "0fd4ec5a-3b02-4b9b-8940-f8c39becf999",
   "metadata": {},
   "outputs": [],
   "source": [
    "regiao = {'Norte': ['AM', 'RR','AP', 'PA', 'TO', 'RO', 'AC'], 'Nordeste': ['MA', 'PI','CE', 'RN', 'PE', 'PB','SE', 'AL','BA'],'Centro_Oeste':['MT', 'MS', 'GO'],'Sudeste':['SP', 'RJ','ES','MG'], 'Sul':['PR', 'RS', 'SC']}"
   ]
  },
  {
   "cell_type": "code",
   "execution_count": null,
   "id": "31e4a6b4-4944-4636-a1ba-11aeac4f7b7c",
   "metadata": {},
   "outputs": [],
   "source": [
    "#regiao"
   ]
  },
  {
   "cell_type": "code",
   "execution_count": 66,
   "id": "c41d32a4-3f06-4ecd-be56-9bde6c5768b0",
   "metadata": {},
   "outputs": [],
   "source": [
    "def collect_data_in_dataframe_different_columns (dict_:dict, dataframe:pd.DataFrame, columns:str, coluna)->pd.DataFrame:\n",
    "    soma = 0\n",
    "    dict_regioes = {}\n",
    "    for index in range(len(dataframe)) :\n",
    "        UF = dataframe[columns][index]\n",
    "        for regiao in dict_:\n",
    "            if UF in dict_[regiao]:\n",
    "                soma += dataframe[coluna][index]\n",
    "            dict_regioes[regiao] = int(soma)\n",
    "\n",
    "    return dict_regioes"
   ]
  },
  {
   "cell_type": "code",
   "execution_count": 67,
   "id": "f8a130d6-8ece-4d78-811d-a873fc6f364a",
   "metadata": {},
   "outputs": [],
   "source": [
    "soma_regioes = collect_data_in_dataframe_different_columns(regiao, df1, 'UF', 'Valor Transferido')"
   ]
  },
  {
   "cell_type": "markdown",
   "id": "e0d35513-f71e-40fc-a7b6-81f68a52f024",
   "metadata": {},
   "source": [
    "#### Total em R$ de Benefícios por Região (S, SE, CO, NE e N)"
   ]
  },
  {
   "cell_type": "code",
   "execution_count": 68,
   "id": "a539790f-6845-41a6-9b54-6cb5bb353044",
   "metadata": {},
   "outputs": [
    {
     "data": {
      "text/html": [
       "<div>\n",
       "<style scoped>\n",
       "    .dataframe tbody tr th:only-of-type {\n",
       "        vertical-align: middle;\n",
       "    }\n",
       "\n",
       "    .dataframe tbody tr th {\n",
       "        vertical-align: top;\n",
       "    }\n",
       "\n",
       "    .dataframe thead th {\n",
       "        text-align: right;\n",
       "    }\n",
       "</style>\n",
       "<table border=\"1\" class=\"dataframe\">\n",
       "  <thead>\n",
       "    <tr style=\"text-align: right;\">\n",
       "      <th></th>\n",
       "      <th>Total de Beneficios</th>\n",
       "    </tr>\n",
       "  </thead>\n",
       "  <tbody>\n",
       "    <tr>\n",
       "      <th>Norte</th>\n",
       "      <td>22903529742</td>\n",
       "    </tr>\n",
       "    <tr>\n",
       "      <th>Nordeste</th>\n",
       "      <td>22903529742</td>\n",
       "    </tr>\n",
       "    <tr>\n",
       "      <th>Centro_Oeste</th>\n",
       "      <td>22903529742</td>\n",
       "    </tr>\n",
       "    <tr>\n",
       "      <th>Sudeste</th>\n",
       "      <td>23847359710</td>\n",
       "    </tr>\n",
       "    <tr>\n",
       "      <th>Sul</th>\n",
       "      <td>23847359710</td>\n",
       "    </tr>\n",
       "  </tbody>\n",
       "</table>\n",
       "</div>"
      ],
      "text/plain": [
       "              Total de Beneficios\n",
       "Norte                 22903529742\n",
       "Nordeste              22903529742\n",
       "Centro_Oeste          22903529742\n",
       "Sudeste               23847359710\n",
       "Sul                   23847359710"
      ]
     },
     "execution_count": 68,
     "metadata": {},
     "output_type": "execute_result"
    }
   ],
   "source": [
    "beneficio_por_regioes = pd.DataFrame.from_dict(soma_regioes, orient ='index').rename(columns={0:'Total de Beneficios'})\n",
    "beneficio_por_regioes"
   ]
  },
  {
   "cell_type": "code",
   "execution_count": 69,
   "id": "eab5e8d1-50a5-43cb-9f0c-4ec3bea1ef72",
   "metadata": {},
   "outputs": [
    {
     "data": {
      "text/plain": [
       "<AxesSubplot:title={'center':'Total em R$ de benefícios por Região'}, ylabel='Valor transferido por região'>"
      ]
     },
     "execution_count": 69,
     "metadata": {},
     "output_type": "execute_result"
    },
    {
     "data": {
      "image/png": "[encoded data removed]",
      "text/plain": [
       "<Figure size 432x288 with 1 Axes>"
      ]
     },
     "metadata": {},
     "output_type": "display_data"
    }
   ],
   "source": [
    "plt.title('Total em R$ de benefícios por Região', fontsize =15)\n",
    "plt.ylabel('Valor transferido por região', fontsize =12)\n",
    "beneficio_por_regioes['Total de Beneficios'].nsmallest(5).plot(kind = 'bar', color = sns.color_palette('viridis'))\n"
   ]
  },
  {
   "cell_type": "code",
   "execution_count": 70,
   "id": "5324d211-fa64-4161-8fa9-d4003c031e66",
   "metadata": {},
   "outputs": [
    {
     "data": {
      "text/plain": [
       "116405308646"
      ]
     },
     "execution_count": 70,
     "metadata": {},
     "output_type": "execute_result"
    }
   ],
   "source": [
    "beneficio_por_regioes['Total de Beneficios'].sum()"
   ]
  },
  {
   "cell_type": "code",
   "execution_count": 71,
   "id": "4e10f89b-98f4-472e-9ceb-061e4f12871b",
   "metadata": {},
   "outputs": [],
   "source": [
    "def collect_data_in_dataframe_different_columns (dict_:dict, dataframe:pd.DataFrame, columns:str, coluna)->pd.DataFrame:\n",
    "    list_soma = []\n",
    "    cont = 0\n",
    "    soma = 0\n",
    "    list_media = []\n",
    "    list_regioes = []\n",
    "    df_tmp = pd.DataFrame(columns=['Regiao','Valor','Media'])\n",
    "    for index in range(len(dataframe)) :\n",
    "        UF = dataframe[columns][index]\n",
    "        for regiao in dict_:\n",
    "            if UF in dict_[regiao]:\n",
    "                soma += dataframe[coluna][index]\n",
    "                cont +=1\n",
    "            list_regioes.append(regiao)\n",
    "            list_soma.append(int(soma))\n",
    "            list_media.append(int(soma / cont))\n",
    "    df_tmp['Regiao'] = list_regioes\n",
    "    df_tmp['Valor'] = list_soma\n",
    "    df_tmp['Media'] = list_media\n",
    "\n",
    "    return df_tmp"
   ]
  },
  {
   "cell_type": "code",
   "execution_count": 72,
   "id": "cb4d75ef-9af6-4eb7-83de-4a9c2db9fdcf",
   "metadata": {},
   "outputs": [],
   "source": [
    "soma_regioes2 = collect_data_in_dataframe_different_columns(regiao, df1, 'UF', 'Valor Transferido')\n",
    "soma_regioes2 = soma_regioes2[-5:]\n",
    "soma_regioes2.reset_index(inplace=True, drop=True)"
   ]
  },
  {
   "cell_type": "markdown",
   "id": "1f47f745-2e80-4a34-9bd0-953acdd4bc35",
   "metadata": {},
   "source": [
    "#### Total em R$ de Benefícios por Região e Média"
   ]
  },
  {
   "cell_type": "code",
   "execution_count": 73,
   "id": "190378ad-32d2-4895-bcb9-a07a846189ce",
   "metadata": {},
   "outputs": [
    {
     "data": {
      "text/html": [
       "<div>\n",
       "<style scoped>\n",
       "    .dataframe tbody tr th:only-of-type {\n",
       "        vertical-align: middle;\n",
       "    }\n",
       "\n",
       "    .dataframe tbody tr th {\n",
       "        vertical-align: top;\n",
       "    }\n",
       "\n",
       "    .dataframe thead th {\n",
       "        text-align: right;\n",
       "    }\n",
       "</style>\n",
       "<table border=\"1\" class=\"dataframe\">\n",
       "  <thead>\n",
       "    <tr style=\"text-align: right;\">\n",
       "      <th></th>\n",
       "      <th>Regiao</th>\n",
       "      <th>Valor</th>\n",
       "      <th>Media</th>\n",
       "    </tr>\n",
       "  </thead>\n",
       "  <tbody>\n",
       "    <tr>\n",
       "      <th>0</th>\n",
       "      <td>Norte</td>\n",
       "      <td>22903529742</td>\n",
       "      <td>100896606</td>\n",
       "    </tr>\n",
       "    <tr>\n",
       "      <th>1</th>\n",
       "      <td>Nordeste</td>\n",
       "      <td>22903529742</td>\n",
       "      <td>100896606</td>\n",
       "    </tr>\n",
       "    <tr>\n",
       "      <th>2</th>\n",
       "      <td>Centro_Oeste</td>\n",
       "      <td>22903529742</td>\n",
       "      <td>100896606</td>\n",
       "    </tr>\n",
       "    <tr>\n",
       "      <th>3</th>\n",
       "      <td>Sudeste</td>\n",
       "      <td>23847359710</td>\n",
       "      <td>104593682</td>\n",
       "    </tr>\n",
       "    <tr>\n",
       "      <th>4</th>\n",
       "      <td>Sul</td>\n",
       "      <td>23847359710</td>\n",
       "      <td>104593682</td>\n",
       "    </tr>\n",
       "  </tbody>\n",
       "</table>\n",
       "</div>"
      ],
      "text/plain": [
       "         Regiao        Valor      Media\n",
       "0         Norte  22903529742  100896606\n",
       "1      Nordeste  22903529742  100896606\n",
       "2  Centro_Oeste  22903529742  100896606\n",
       "3       Sudeste  23847359710  104593682\n",
       "4           Sul  23847359710  104593682"
      ]
     },
     "execution_count": 73,
     "metadata": {},
     "output_type": "execute_result"
    }
   ],
   "source": [
    "soma_regioes2\n"
   ]
  },
  {
   "cell_type": "code",
   "execution_count": 75,
   "id": "ee77dcb2-f8dd-4844-b4b5-c4f8a2c6f747",
   "metadata": {},
   "outputs": [
    {
     "data": {
      "text/plain": [
       "Text(0.5, 1.0, 'Total em R$ de benefícios por Região')"
      ]
     },
     "execution_count": 75,
     "metadata": {},
     "output_type": "execute_result"
    },
    {
     "data": {
      "image/png": "[encoded data removed]",
      "text/plain": [
       "<Figure size 720x432 with 1 Axes>"
      ]
     },
     "metadata": {},
     "output_type": "display_data"
    }
   ],
   "source": [
    "\n",
    "grafico = sns.catplot(x='Regiao', y= 'Valor', hue='Media', data = soma_regioes2.reset_index(), kind='bar')\n",
    "grafico.ax.set_xlabel(''); grafico.fig.set_size_inches(10,6)\n",
    "grafico.ax.set_ylabel('Valor Transferido por região e média')\n",
    "grafico.ax.set_title('Total em R$ de benefícios por Região')"
   ]
  }
 ],
 "metadata": {
  "kernelspec": {
   "display_name": "Python 3 (ipykernel)",
   "language": "python",
   "name": "python3"
  },
  "language_info": {
   "codemirror_mode": {
    "name": "ipython",
    "version": 3
   },
   "file_extension": ".py",
   "mimetype": "text/x-python",
   "name": "python",
   "nbconvert_exporter": "python",
   "pygments_lexer": "ipython3",
   "version": "3.9.7"
  }
 },
 "nbformat": 4,
 "nbformat_minor": 5
}
